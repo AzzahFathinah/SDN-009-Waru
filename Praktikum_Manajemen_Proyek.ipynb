{
  "nbformat": 4,
  "nbformat_minor": 0,
  "metadata": {
    "colab": {
      "provenance": [],
      "mount_file_id": "1cJsFPnyf9SIcP1Xm6bQ5BAAqHGGCjvSG",
      "authorship_tag": "ABX9TyPBQQuXcys80OX5T1BjgV2D",
      "include_colab_link": true
    },
    "kernelspec": {
      "name": "python3",
      "display_name": "Python 3"
    },
    "language_info": {
      "name": "python"
    }
  },
  "cells": [
    {
      "cell_type": "markdown",
      "metadata": {
        "id": "view-in-github",
        "colab_type": "text"
      },
      "source": [
        "<a href=\"https://colab.research.google.com/github/AzzahFathinah/SDN-009-Waru/blob/master/Praktikum_Manajemen_Proyek.ipynb\" target=\"_parent\"><img src=\"https://colab.research.google.com/assets/colab-badge.svg\" alt=\"Open In Colab\"/></a>"
      ]
    },
    {
      "cell_type": "markdown",
      "source": [
        "#**PRAPROSES DATA** Minggu ke 2\n",
        "\n",
        "a. Eksplorasi Data (Exploratory Data Analysis/EDA):\n",
        "\n",
        "Tujuan: Memahami isi dataset.\n",
        "Lihat struktur data (kolom, jenis data, jumlah data).\n",
        "\n",
        "#**week_3**"
      ],
      "metadata": {
        "id": "bV-QNSGIUuk1"
      }
    },
    {
      "cell_type": "code",
      "execution_count": null,
      "metadata": {
        "id": "5qovECUUUk_0",
        "colab": {
          "base_uri": "https://localhost:8080/"
        },
        "outputId": "84a9ce7c-a4f2-4195-a96e-4e63037559e5"
      },
      "outputs": [
        {
          "output_type": "stream",
          "name": "stdout",
          "text": [
            "<class 'pandas.core.frame.DataFrame'>\n",
            "RangeIndex: 480 entries, 0 to 479\n",
            "Data columns (total 17 columns):\n",
            " #   Column                    Non-Null Count  Dtype \n",
            "---  ------                    --------------  ----- \n",
            " 0   gender                    480 non-null    object\n",
            " 1   NationalITy               480 non-null    object\n",
            " 2   PlaceofBirth              480 non-null    object\n",
            " 3   StageID                   480 non-null    object\n",
            " 4   GradeID                   480 non-null    object\n",
            " 5   SectionID                 480 non-null    object\n",
            " 6   Topic                     480 non-null    object\n",
            " 7   Semester                  480 non-null    object\n",
            " 8   Relation                  480 non-null    object\n",
            " 9   raisedhands               480 non-null    int64 \n",
            " 10  VisITedResources          480 non-null    int64 \n",
            " 11  AnnouncementsView         480 non-null    int64 \n",
            " 12  Discussion                480 non-null    int64 \n",
            " 13  ParentAnsweringSurvey     480 non-null    object\n",
            " 14  ParentschoolSatisfaction  480 non-null    object\n",
            " 15  StudentAbsenceDays        480 non-null    object\n",
            " 16  Class                     480 non-null    object\n",
            "dtypes: int64(4), object(13)\n",
            "memory usage: 63.9+ KB\n",
            "None\n",
            "       raisedhands  VisITedResources  AnnouncementsView  Discussion\n",
            "count   480.000000        480.000000         480.000000  480.000000\n",
            "mean     46.775000         54.797917          37.918750   43.283333\n",
            "std      30.779223         33.080007          26.611244   27.637735\n",
            "min       0.000000          0.000000           0.000000    1.000000\n",
            "25%      15.750000         20.000000          14.000000   20.000000\n",
            "50%      50.000000         65.000000          33.000000   39.000000\n",
            "75%      75.000000         84.000000          58.000000   70.000000\n",
            "max     100.000000         99.000000          98.000000   99.000000\n"
          ]
        }
      ],
      "source": [
        "# Tujuan Memahami isi dataset\n",
        "# Lihat struktur data ( kolom, jenis data, jumlah data)\n",
        "import pandas as pd\n",
        "data = pd.read_csv('/content/drive/MyDrive/xAPI-Edu-Data.csv')\n",
        "print(data.info())\n",
        "print(data.describe())\n"
      ]
    },
    {
      "cell_type": "code",
      "source": [
        "# Mengidentifikasi missing values dan duplikasi\n",
        "print(data.isnull().sum())"
      ],
      "metadata": {
        "colab": {
          "base_uri": "https://localhost:8080/"
        },
        "id": "_69A-IPDz91c",
        "outputId": "def93725-2d55-4bec-8e79-193ca8cd4a80"
      },
      "execution_count": null,
      "outputs": [
        {
          "output_type": "stream",
          "name": "stdout",
          "text": [
            "gender                      0\n",
            "NationalITy                 0\n",
            "PlaceofBirth                0\n",
            "StageID                     0\n",
            "GradeID                     0\n",
            "SectionID                   0\n",
            "Topic                       0\n",
            "Semester                    0\n",
            "Relation                    0\n",
            "raisedhands                 0\n",
            "VisITedResources            0\n",
            "AnnouncementsView           0\n",
            "Discussion                  0\n",
            "ParentAnsweringSurvey       0\n",
            "ParentschoolSatisfaction    0\n",
            "StudentAbsenceDays          0\n",
            "Class                       0\n",
            "dtype: int64\n"
          ]
        }
      ]
    },
    {
      "cell_type": "code",
      "source": [
        "# penanganan missing values\n",
        "# menghapus baris atau kolom yang kosong\n",
        "data['Class'].fillna(data['Class'].mode()[0], inplace=True)\n"
      ],
      "metadata": {
        "id": "TZjmiZMy0JES"
      },
      "execution_count": null,
      "outputs": []
    },
    {
      "cell_type": "code",
      "source": [
        "# normalisasi data\n",
        "from sklearn.preprocessing import MinMaxScaler\n",
        "from sklearn.preprocessing import LabelEncoder\n",
        "\n",
        "encoder = LabelEncoder()\n",
        "\n",
        "data['gender'] = encoder.fit_transform(data['gender'])\n",
        "data['Class'] = encoder.fit_transform(data['Class'])\n",
        "\n",
        "scaler = MinMaxScaler()\n",
        "data[['Class', 'gender']] = scaler.fit_transform(data[['Class', 'gender']])"
      ],
      "metadata": {
        "id": "GFPLvos80xtA"
      },
      "execution_count": null,
      "outputs": []
    },
    {
      "cell_type": "code",
      "source": [
        "# Mengubah kolom kategori menjadi format numerik menggunakan on-hot encoding atau label encoding\n",
        "from sklearn.preprocessing import LabelEncoder\n",
        "encoder = LabelEncoder()\n",
        "data['gender'] = encoder.fit_transform(data['gender'])\n"
      ],
      "metadata": {
        "id": "op-8gkzw1vLt"
      },
      "execution_count": null,
      "outputs": []
    },
    {
      "cell_type": "code",
      "source": [
        "# Membagi data pelatihan dan pengujian menjadi 80%-20%\n",
        "from sklearn.model_selection import train_test_split\n",
        "X = data.drop('Class', axis=1)  # Fitur\n",
        "y = data['Class']  # Target\n",
        "X_train, X_test, y_train, y_test = train_test_split(X, y, test_size=0.2, random_state=42)\n"
      ],
      "metadata": {
        "id": "BYw2tgbK2Ak1"
      },
      "execution_count": null,
      "outputs": []
    },
    {
      "cell_type": "markdown",
      "source": [
        "#**Analisis Data** Minggu ke 3"
      ],
      "metadata": {
        "id": "Lbzp3w8r2WBJ"
      }
    },
    {
      "cell_type": "code",
      "source": [
        "# Gunakan statistik deskriptif untuk mengetahui ukuran pusat (mean, median) dan penyebaran (standar deviasi, quartiles) dari fitur numerik.\n",
        "import pandas as pd\n",
        "data = pd.read_csv('/content/drive/MyDrive/xAPI-Edu-Data.csv')\n",
        "print(data.describe())\n"
      ],
      "metadata": {
        "colab": {
          "base_uri": "https://localhost:8080/"
        },
        "id": "MT2egSWG2qdl",
        "outputId": "2e713f26-e21c-49c3-8a20-10902d653622"
      },
      "execution_count": null,
      "outputs": [
        {
          "output_type": "stream",
          "name": "stdout",
          "text": [
            "       raisedhands  VisITedResources  AnnouncementsView  Discussion\n",
            "count   480.000000        480.000000         480.000000  480.000000\n",
            "mean     46.775000         54.797917          37.918750   43.283333\n",
            "std      30.779223         33.080007          26.611244   27.637735\n",
            "min       0.000000          0.000000           0.000000    1.000000\n",
            "25%      15.750000         20.000000          14.000000   20.000000\n",
            "50%      50.000000         65.000000          33.000000   39.000000\n",
            "75%      75.000000         84.000000          58.000000   70.000000\n",
            "max     100.000000         99.000000          98.000000   99.000000\n"
          ]
        }
      ]
    },
    {
      "cell_type": "code",
      "source": [
        "# Visualisasi data\n",
        "# Histogram untuk distribusi nilai numerik seperti nilai tugas atau absensi\n",
        "import matplotlib.pyplot as plt\n",
        "data['Class'].hist(bins=10)\n",
        "plt.title('Distribusi Nilai')\n",
        "plt.xlabel('Nilai')\n",
        "plt.ylabel('Frekuensi')\n",
        "plt.show()\n"
      ],
      "metadata": {
        "colab": {
          "base_uri": "https://localhost:8080/",
          "height": 472
        },
        "id": "WU__3ZRk27sx",
        "outputId": "1b78c1ce-ba44-4954-80f3-d21b7e2403a8"
      },
      "execution_count": null,
      "outputs": [
        {
          "output_type": "display_data",
          "data": {
            "text/plain": [
              "<Figure size 640x480 with 1 Axes>"
            ],
            "image/png": "[encoded data removed]"
          },
          "metadata": {}
        }
      ]
    },
    {
      "cell_type": "code",
      "source": [
        "# Boxplot untuk mendeteksi outlier\n",
        "import seaborn as sns\n",
        "sns.boxplot(data['Class'])\n"
      ],
      "metadata": {
        "colab": {
          "base_uri": "https://localhost:8080/",
          "height": 428
        },
        "id": "6NSguylG3aF6",
        "outputId": "0c4fdf33-4d10-44cb-d22c-cb48a0a65fdb"
      },
      "execution_count": null,
      "outputs": [
        {
          "output_type": "execute_result",
          "data": {
            "text/plain": [
              "<Axes: ylabel='Class'>"
            ]
          },
          "metadata": {},
          "execution_count": 18
        },
        {
          "output_type": "display_data",
          "data": {
            "text/plain": [
              "<Figure size 640x480 with 1 Axes>"
            ],
            "image/png": "[encoded data removed]"
          },
          "metadata": {}
        }
      ]
    },
    {
      "cell_type": "code",
      "source": [
        "# Diagram batang untuk kategori seperti jenis kelamin atau tingkat pendidikan.\n",
        "data['gender'].value_counts().plot(kind='bar')\n",
        "plt.title('Distribusi Gender')\n",
        "plt.xlabel('Gender')\n",
        "plt.ylabel('Frekuensi')\n",
        "plt.show()\n"
      ],
      "metadata": {
        "colab": {
          "base_uri": "https://localhost:8080/",
          "height": 470
        },
        "id": "4fYZ4qql3kk0",
        "outputId": "788a3cac-a4db-4421-cdfe-d73b4ed834d2"
      },
      "execution_count": null,
      "outputs": [
        {
          "output_type": "display_data",
          "data": {
            "text/plain": [
              "<Figure size 640x480 with 1 Axes>"
            ],
            "image/png": "[encoded data removed]"
          },
          "metadata": {}
        }
      ]
    },
    {
      "cell_type": "code",
      "source": [
        "# Uji Kolerasi\n",
        "# Menggunakan matriks korelasi untuk mengetahui hubungan antar fitur numerik.\n",
        "# Pilih hanya fitur numerik untuk perhitungan korelasi\n",
        "numerical_data = data.select_dtypes(include=['number'])\n",
        "correlation_matrix = numerical_data.corr()\n",
        "print(correlation_matrix)"
      ],
      "metadata": {
        "colab": {
          "base_uri": "https://localhost:8080/"
        },
        "id": "c4jL3E-s3yDg",
        "outputId": "354fd5cd-b956-4103-dc37-1fc52ace0510"
      },
      "execution_count": null,
      "outputs": [
        {
          "output_type": "stream",
          "name": "stdout",
          "text": [
            "                   raisedhands  VisITedResources  AnnouncementsView  \\\n",
            "raisedhands           1.000000          0.691572           0.643918   \n",
            "VisITedResources      0.691572          1.000000           0.594500   \n",
            "AnnouncementsView     0.643918          0.594500           1.000000   \n",
            "Discussion            0.339386          0.243292           0.417290   \n",
            "\n",
            "                   Discussion  \n",
            "raisedhands          0.339386  \n",
            "VisITedResources     0.243292  \n",
            "AnnouncementsView    0.417290  \n",
            "Discussion           1.000000  \n"
          ]
        }
      ]
    },
    {
      "cell_type": "code",
      "source": [
        "# Visualisasikan matriks korelasi dengan heatmap:\n",
        "import seaborn as sns\n",
        "plt.figure(figsize=(10, 8))\n",
        "sns.heatmap(correlation_matrix, annot=True, cmap='coolwarm', fmt='.2f')\n",
        "plt.title('Matriks Korelasi')\n",
        "plt.show()\n"
      ],
      "metadata": {
        "colab": {
          "base_uri": "https://localhost:8080/",
          "height": 699
        },
        "id": "2X9cMUsC4WRE",
        "outputId": "3ad00768-e353-4ba2-d72d-8b38c154f667"
      },
      "execution_count": null,
      "outputs": [
        {
          "output_type": "display_data",
          "data": {
            "text/plain": [
              "<Figure size 1000x800 with 2 Axes>"
            ],
            "image/png": "[encoded data removed]"
          },
          "metadata": {}
        }
      ]
    },
    {
      "cell_type": "code",
      "source": [
        "non_numeric_columns = X.select_dtypes(include=['object', 'category']).columns\n",
        "print(\"Kolom non-numerik:\", non_numeric_columns)\n"
      ],
      "metadata": {
        "colab": {
          "base_uri": "https://localhost:8080/"
        },
        "id": "UYkqecye6Q8z",
        "outputId": "4bfb6cbf-fd07-4db6-9959-777d8b1fc6e4"
      },
      "execution_count": null,
      "outputs": [
        {
          "output_type": "stream",
          "name": "stdout",
          "text": [
            "Kolom non-numerik: Index(['ParentschoolSatisfaction'], dtype='object')\n"
          ]
        }
      ]
    },
    {
      "cell_type": "code",
      "source": [
        "from sklearn.preprocessing import LabelEncoder\n",
        "\n",
        "label_encoder = LabelEncoder()\n",
        "for col in non_numeric_columns:\n",
        "    X[col] = label_encoder.fit_transform(X[col])\n"
      ],
      "metadata": {
        "id": "teKOj_V97FI-"
      },
      "execution_count": null,
      "outputs": []
    },
    {
      "cell_type": "code",
      "source": [
        "from sklearn.preprocessing import LabelEncoder\n",
        "from sklearn.ensemble import RandomForestClassifier\n",
        "X = data.drop('Class', axis=1)  # Fitur\n",
        "y = data['Class']  # Target\n",
        "# Get the list of non-numeric columns in the new X DataFrame\n",
        "non_numeric_columns = X.select_dtypes(exclude=['number']).columns\n",
        "\n",
        "# Create a LabelEncoder object\n",
        "label_encoder = LabelEncoder()\n",
        "\n",
        "# Apply Label Encoding to non-numeric columns in X\n",
        "for col in non_numeric_columns:\n",
        "    X[col] = label_encoder.fit_transform(X[col])\n",
        "\n",
        "# Fit the model after encoding categorical features\n",
        "model = RandomForestClassifier(n_estimators=100)\n",
        "model.fit(X, y)\n",
        "\n",
        "# Menampilkan pentingnya fitur\n",
        "importances = model.feature_importances_\n",
        "features = X.columns\n",
        "feature_importance = pd.DataFrame({'Feature': features, 'Importance': importances})\n",
        "feature_importance = feature_importance.sort_values(by='Importance', ascending=False)\n",
        "print(feature_importance)"
      ],
      "metadata": {
        "colab": {
          "base_uri": "https://localhost:8080/"
        },
        "id": "qadp8UI-7YnY",
        "outputId": "a5d305a9-66a4-4808-d528-61233fe2062a"
      },
      "execution_count": null,
      "outputs": [
        {
          "output_type": "stream",
          "name": "stdout",
          "text": [
            "                 Feature  Importance\n",
            "2       VisITedResources    0.140933\n",
            "1            raisedhands    0.116195\n",
            "3      AnnouncementsView    0.094292\n",
            "68  StudentAbsenceDays_0    0.071681\n",
            "4             Discussion    0.070402\n",
            "..                   ...         ...\n",
            "7          NationalITy_1    0.000735\n",
            "39             GradeID_2    0.000667\n",
            "44             GradeID_7    0.000525\n",
            "33       PlaceofBirth_13    0.000074\n",
            "19        NationalITy_13    0.000067\n",
            "\n",
            "[70 rows x 2 columns]\n"
          ]
        }
      ]
    },
    {
      "cell_type": "markdown",
      "source": [
        "#**Minggu 4 Pemodelan Data**"
      ],
      "metadata": {
        "id": "1uImslny8swc"
      }
    },
    {
      "cell_type": "code",
      "source": [
        "# Implementasi model LSTM\n",
        "import tensorflow as tf\n",
        "from tensorflow.keras.models import Sequential\n",
        "from tensorflow.keras.layers import LSTM, Dense\n",
        "from sklearn.preprocessing import StandardScaler\n",
        "import numpy as np\n",
        "from sklearn.preprocessing import LabelEncoder\n",
        "\n",
        "# Buat objek LabelEncoder\n",
        "label_encoder = LabelEncoder()\n",
        "\n",
        "# Terapkan Label Encoding ke kolom non-numerik di X_train dan X_test\n",
        "for col in X_train.select_dtypes(exclude=['number']).columns:\n",
        "    X_train[col] = label_encoder.fit_transform(X_train[col])\n",
        "    X_test[col] = label_encoder.transform(X_test[col])  # Gunakan transform untuk X_test untuk menghindari kebocoran data\n",
        "\n",
        "\n",
        "# Persiapkan data untuk input LSTM\n",
        "# Ubah X_train dan X_test ke float32\n",
        "X_train_lstm = np.reshape(X_train.values.astype(np.float32), (X_train.shape[0], X_train.shape[1], 1))  # Ubah dimensi dan ubah tipe data\n",
        "X_test_lstm = np.reshape(X_test.values.astype(np.float32), (X_test.shape[0], X_test.shape[1], 1))\n",
        "\n",
        "# Ubah y_train dan y_test ke float32\n",
        "y_train = y_train.astype(np.float32)\n",
        "y_test = y_test.astype(np.float32)\n",
        "\n",
        "# Bangun model LSTM\n",
        "model = Sequential()\n",
        "model.add(LSTM(50, activation='relu', input_shape=(X_train_lstm.shape[1], 1)))\n",
        "model.add(Dense(1, activation='sigmoid'))  # Untuk klasifikasi biner\n",
        "model.compile(optimizer='adam', loss='binary_crossentropy', metrics=['accuracy'])\n",
        "\n",
        "# Latih model\n",
        "history = model.fit(X_train_lstm, y_train, epochs=20, batch_size=32, validation_data=(X_test_lstm, y_test))"
      ],
      "metadata": {
        "colab": {
          "base_uri": "https://localhost:8080/"
        },
        "id": "J2zMGOhd9EHD",
        "outputId": "fb76cbb9-da1c-44a2-8575-134fe88f5e14"
      },
      "execution_count": null,
      "outputs": [
        {
          "output_type": "stream",
          "name": "stdout",
          "text": [
            "Epoch 1/20\n"
          ]
        },
        {
          "output_type": "stream",
          "name": "stderr",
          "text": [
            "/usr/local/lib/python3.10/dist-packages/keras/src/layers/rnn/rnn.py:204: UserWarning: Do not pass an `input_shape`/`input_dim` argument to a layer. When using Sequential models, prefer using an `Input(shape)` object as the first layer in the model instead.\n",
            "  super().__init__(**kwargs)\n"
          ]
        },
        {
          "output_type": "stream",
          "name": "stdout",
          "text": [
            "\u001b[1m12/12\u001b[0m \u001b[32m━━━━━━━━━━━━━━━━━━━━\u001b[0m\u001b[37m\u001b[0m \u001b[1m4s\u001b[0m 34ms/step - accuracy: 0.3148 - loss: 1.8928 - val_accuracy: 0.5104 - val_loss: 0.6839\n",
            "Epoch 2/20\n",
            "\u001b[1m12/12\u001b[0m \u001b[32m━━━━━━━━━━━━━━━━━━━━\u001b[0m\u001b[37m\u001b[0m \u001b[1m0s\u001b[0m 12ms/step - accuracy: 0.3679 - loss: 0.7819 - val_accuracy: 0.3854 - val_loss: 0.7449\n",
            "Epoch 3/20\n",
            "\u001b[1m12/12\u001b[0m \u001b[32m━━━━━━━━━━━━━━━━━━━━\u001b[0m\u001b[37m\u001b[0m \u001b[1m0s\u001b[0m 10ms/step - accuracy: 0.4240 - loss: 0.7126 - val_accuracy: 0.5417 - val_loss: 0.6372\n",
            "Epoch 4/20\n",
            "\u001b[1m12/12\u001b[0m \u001b[32m━━━━━━━━━━━━━━━━━━━━\u001b[0m\u001b[37m\u001b[0m \u001b[1m0s\u001b[0m 10ms/step - accuracy: 0.4375 - loss: 0.6823 - val_accuracy: 0.5208 - val_loss: 0.6495\n",
            "Epoch 5/20\n",
            "\u001b[1m12/12\u001b[0m \u001b[32m━━━━━━━━━━━━━━━━━━━━\u001b[0m\u001b[37m\u001b[0m \u001b[1m0s\u001b[0m 11ms/step - accuracy: 0.4765 - loss: 0.6862 - val_accuracy: 0.5312 - val_loss: 0.6310\n",
            "Epoch 6/20\n",
            "\u001b[1m12/12\u001b[0m \u001b[32m━━━━━━━━━━━━━━━━━━━━\u001b[0m\u001b[37m\u001b[0m \u001b[1m0s\u001b[0m 11ms/step - accuracy: 0.4285 - loss: 0.6750 - val_accuracy: 0.5729 - val_loss: 0.6201\n",
            "Epoch 7/20\n",
            "\u001b[1m12/12\u001b[0m \u001b[32m━━━━━━━━━━━━━━━━━━━━\u001b[0m\u001b[37m\u001b[0m \u001b[1m0s\u001b[0m 11ms/step - accuracy: 0.4876 - loss: 0.6450 - val_accuracy: 0.5833 - val_loss: 0.6166\n",
            "Epoch 8/20\n",
            "\u001b[1m12/12\u001b[0m \u001b[32m━━━━━━━━━━━━━━━━━━━━\u001b[0m\u001b[37m\u001b[0m \u001b[1m0s\u001b[0m 13ms/step - accuracy: 0.4812 - loss: 0.6411 - val_accuracy: 0.5833 - val_loss: 0.6145\n",
            "Epoch 9/20\n",
            "\u001b[1m12/12\u001b[0m \u001b[32m━━━━━━━━━━━━━━━━━━━━\u001b[0m\u001b[37m\u001b[0m \u001b[1m0s\u001b[0m 11ms/step - accuracy: 0.5212 - loss: 0.6366 - val_accuracy: 0.5625 - val_loss: 0.6146\n",
            "Epoch 10/20\n",
            "\u001b[1m12/12\u001b[0m \u001b[32m━━━━━━━━━━━━━━━━━━━━\u001b[0m\u001b[37m\u001b[0m \u001b[1m0s\u001b[0m 11ms/step - accuracy: 0.5050 - loss: 0.6479 - val_accuracy: 0.5521 - val_loss: 0.6047\n",
            "Epoch 11/20\n",
            "\u001b[1m12/12\u001b[0m \u001b[32m━━━━━━━━━━━━━━━━━━━━\u001b[0m\u001b[37m\u001b[0m \u001b[1m0s\u001b[0m 10ms/step - accuracy: 0.5092 - loss: 0.6356 - val_accuracy: 0.4583 - val_loss: 0.6873\n",
            "Epoch 12/20\n",
            "\u001b[1m12/12\u001b[0m \u001b[32m━━━━━━━━━━━━━━━━━━━━\u001b[0m\u001b[37m\u001b[0m \u001b[1m0s\u001b[0m 10ms/step - accuracy: 0.4690 - loss: 0.6803 - val_accuracy: 0.5521 - val_loss: 0.5979\n",
            "Epoch 13/20\n",
            "\u001b[1m12/12\u001b[0m \u001b[32m━━━━━━━━━━━━━━━━━━━━\u001b[0m\u001b[37m\u001b[0m \u001b[1m0s\u001b[0m 14ms/step - accuracy: 0.4940 - loss: 0.6389 - val_accuracy: 0.5938 - val_loss: 0.6006\n",
            "Epoch 14/20\n",
            "\u001b[1m12/12\u001b[0m \u001b[32m━━━━━━━━━━━━━━━━━━━━\u001b[0m\u001b[37m\u001b[0m \u001b[1m0s\u001b[0m 11ms/step - accuracy: 0.5091 - loss: 0.6310 - val_accuracy: 0.5729 - val_loss: 0.6140\n",
            "Epoch 15/20\n",
            "\u001b[1m12/12\u001b[0m \u001b[32m━━━━━━━━━━━━━━━━━━━━\u001b[0m\u001b[37m\u001b[0m \u001b[1m0s\u001b[0m 11ms/step - accuracy: 0.5143 - loss: 0.6183 - val_accuracy: 0.5625 - val_loss: 0.5911\n",
            "Epoch 16/20\n",
            "\u001b[1m12/12\u001b[0m \u001b[32m━━━━━━━━━━━━━━━━━━━━\u001b[0m\u001b[37m\u001b[0m \u001b[1m0s\u001b[0m 10ms/step - accuracy: 0.5305 - loss: 0.6371 - val_accuracy: 0.5312 - val_loss: 0.6087\n",
            "Epoch 17/20\n",
            "\u001b[1m12/12\u001b[0m \u001b[32m━━━━━━━━━━━━━━━━━━━━\u001b[0m\u001b[37m\u001b[0m \u001b[1m0s\u001b[0m 11ms/step - accuracy: 0.5927 - loss: 0.5930 - val_accuracy: 0.5521 - val_loss: 0.6189\n",
            "Epoch 18/20\n",
            "\u001b[1m12/12\u001b[0m \u001b[32m━━━━━━━━━━━━━━━━━━━━\u001b[0m\u001b[37m\u001b[0m \u001b[1m0s\u001b[0m 12ms/step - accuracy: 0.4612 - loss: 0.6549 - val_accuracy: 0.5729 - val_loss: 0.5952\n",
            "Epoch 19/20\n",
            "\u001b[1m12/12\u001b[0m \u001b[32m━━━━━━━━━━━━━━━━━━━━\u001b[0m\u001b[37m\u001b[0m \u001b[1m0s\u001b[0m 11ms/step - accuracy: 0.5380 - loss: 0.6233 - val_accuracy: 0.5521 - val_loss: 0.6227\n",
            "Epoch 20/20\n",
            "\u001b[1m12/12\u001b[0m \u001b[32m━━━━━━━━━━━━━━━━━━━━\u001b[0m\u001b[37m\u001b[0m \u001b[1m0s\u001b[0m 10ms/step - accuracy: 0.5529 - loss: 0.6268 - val_accuracy: 0.5833 - val_loss: 0.5907\n"
          ]
        }
      ]
    },
    {
      "cell_type": "code",
      "source": [
        "# Implementasi Model SVM\n",
        "from sklearn.svm import SVC  # Diubah dari SVR ke SVC\n",
        "from sklearn.metrics import accuracy_score\n",
        "\n",
        "# Ekstrak fitur dari LSTM\n",
        "X_train_lstm_features = model.predict(X_train_lstm)\n",
        "X_test_lstm_features = model.predict(X_test_lstm)\n",
        "\n",
        "# Convert y_train to discrete classes (e.g., 0 or 1) based on a threshold\n",
        "threshold = 0.5  # Choose an appropriate threshold\n",
        "y_train_discrete = (y_train > threshold).astype(int)\n",
        "\n",
        "# Latih model SVM using the discrete target\n",
        "svm_model = SVC(kernel='linear')  # Anda bisa memilih kernel lain (RBF, polynomial) sesuai kebutuhan\n",
        "svm_model.fit(X_train_lstm_features, y_train_discrete)\n",
        "# --- Akhir perubahan ---\n",
        "\n",
        "# Prediksi dan evaluasi model SVM\n",
        "y_pred = svm_model.predict(X_test_lstm_features)\n",
        "# Convert y_test to discrete classes using the same threshold\n",
        "y_test_discrete = (y_test > threshold).astype(int)\n"
      ],
      "metadata": {
        "colab": {
          "base_uri": "https://localhost:8080/"
        },
        "id": "l-1z7nQm-C26",
        "outputId": "696b5d90-5759-4d4b-9a52-a5792c3329cd"
      },
      "execution_count": null,
      "outputs": [
        {
          "output_type": "stream",
          "name": "stdout",
          "text": [
            "\u001b[1m12/12\u001b[0m \u001b[32m━━━━━━━━━━━━━━━━━━━━\u001b[0m\u001b[37m\u001b[0m \u001b[1m0s\u001b[0m 6ms/step\n",
            "\u001b[1m3/3\u001b[0m \u001b[32m━━━━━━━━━━━━━━━━━━━━\u001b[0m\u001b[37m\u001b[0m \u001b[1m0s\u001b[0m 6ms/step \n"
          ]
        }
      ]
    },
    {
      "cell_type": "code",
      "source": [
        "# Menggunakan confusion matrix untuk memeriksa jumlah true positives, false positives, true negatives, dan false negatives.\n",
        "from sklearn.metrics import confusion_matrix, classification_report\n",
        "\n",
        "print(confusion_matrix(y_test_discrete, y_pred))  # Use y_test_discrete\n",
        "print(classification_report(y_test_discrete, y_pred))  # Use y_test_discrete"
      ],
      "metadata": {
        "colab": {
          "base_uri": "https://localhost:8080/"
        },
        "id": "H_3OBJhF-mWw",
        "outputId": "bd29c580-f5e9-4466-bc4a-4ecb4d5677ff"
      },
      "execution_count": null,
      "outputs": [
        {
          "output_type": "stream",
          "name": "stdout",
          "text": [
            "[[46  2]\n",
            " [38 10]]\n",
            "              precision    recall  f1-score   support\n",
            "\n",
            "           0       0.55      0.96      0.70        48\n",
            "           1       0.83      0.21      0.33        48\n",
            "\n",
            "    accuracy                           0.58        96\n",
            "   macro avg       0.69      0.58      0.52        96\n",
            "weighted avg       0.69      0.58      0.52        96\n",
            "\n"
          ]
        }
      ]
    },
    {
      "cell_type": "code",
      "source": [
        "# Untuk mengukur performa model klasifikasi biner, Anda bisa menggunakan ROC curve dan AUC (Area Under the Curve).\n",
        "from sklearn.metrics import roc_curve, auc\n",
        "import matplotlib.pyplot as plt\n",
        "\n",
        "# Konversi y_pred dan y_test menjadi kelas diskrit menggunakan threshold\n",
        "threshold = 0.5  # Pilih threshold yang sesuai\n",
        "y_pred_discrete = (y_pred > threshold).astype(int)  # Konversi prediksi menjadi 0 atau 1\n",
        "y_test_discrete = (y_test > threshold).astype(int)  # Konversi target sebenarnya menjadi 0 atau 1\n",
        "\n",
        "\n",
        "fpr, tpr, thresholds = roc_curve(y_test_discrete, y_pred_discrete)  # Gunakan nilai diskrit\n",
        "roc_auc = auc(fpr, tpr)\n",
        "\n",
        "# Plot ROC curve\n",
        "plt.figure()\n",
        "plt.plot(fpr, tpr, color='darkorange', lw=2, label='ROC curve (area = %0.2f)' % roc_auc)\n",
        "plt.plot([0, 1], [0, 1], color='navy', lw=2, linestyle='--')\n",
        "plt.xlim([0.0, 1.0])\n",
        "plt.ylim([0.0, 1.05])\n",
        "plt.xlabel('False Positive Rate')\n",
        "plt.ylabel('True Positive Rate')\n",
        "plt.title('Receiver Operating Characteristic')\n",
        "plt.legend(loc=\"lower right\")\n",
        "plt.show()"
      ],
      "metadata": {
        "colab": {
          "base_uri": "https://localhost:8080/",
          "height": 472
        },
        "id": "ckqtc0l8DIei",
        "outputId": "95f19874-d8f8-4f35-f861-ae1cdac1103a"
      },
      "execution_count": null,
      "outputs": [
        {
          "output_type": "display_data",
          "data": {
            "text/plain": [
              "<Figure size 640x480 with 1 Axes>"
            ],
            "image/png": "[encoded data removed]"
          },
          "metadata": {}
        }
      ]
    },
    {
      "cell_type": "markdown",
      "source": [
        "#**Minggu 5 Evaluasi dan Optimasi**"
      ],
      "metadata": {
        "id": "tYAfUJQwDto5"
      }
    },
    {
      "cell_type": "code",
      "source": [
        "# Evaluasi model\n",
        "from sklearn.metrics import accuracy_score, precision_score, recall_score, f1_score, roc_auc_score, confusion_matrix\n",
        "\n",
        "# Pastikan y_test dan y_pred memiliki tipe data yang sama (diskrit/binary)\n",
        "threshold = 0.5  # Gunakan threshold yang sama seperti sebelumnya\n",
        "y_pred_discrete = (y_pred > threshold).astype(int)  # Jika y_pred belum diskrit\n",
        "y_test_discrete = (y_test > threshold).astype(int)  # Jika y_test belum diskrit\n",
        "\n",
        "# Hitung metrik menggunakan y_test_discrete dan y_pred_discrete\n",
        "accuracy = accuracy_score(y_test_discrete, y_pred_discrete)\n",
        "precision = precision_score(y_test_discrete, y_pred_discrete)\n",
        "recall = recall_score(y_test_discrete, y_pred_discrete)\n",
        "f1 = f1_score(y_test_discrete, y_pred_discrete)\n",
        "roc_auc = roc_auc_score(y_test_discrete, y_pred_discrete)\n",
        "# --- Akhir perubahan ---\n",
        "\n",
        "# Output metrik\n",
        "print(f'Akurasi: {accuracy:.4f}')\n",
        "print(f'Precision: {precision:.4f}')\n",
        "print(f'Recall: {recall:.4f}')\n",
        "print(f'F1-Score: {f1:.4f}')\n",
        "print(f'AUC-ROC: {roc_auc:.4f}')"
      ],
      "metadata": {
        "colab": {
          "base_uri": "https://localhost:8080/"
        },
        "id": "erCGGPxMD0JF",
        "outputId": "e7e80372-e1f3-4d81-9a8b-ecea362e90f1"
      },
      "execution_count": null,
      "outputs": [
        {
          "output_type": "stream",
          "name": "stdout",
          "text": [
            "Akurasi: 0.5833\n",
            "Precision: 0.8333\n",
            "Recall: 0.2083\n",
            "F1-Score: 0.3333\n",
            "AUC-ROC: 0.5833\n"
          ]
        }
      ]
    },
    {
      "cell_type": "code",
      "source": [
        "# Optimasi model SVM\n",
        "from sklearn.model_selection import GridSearchCV\n",
        "from sklearn.svm import SVC\n",
        "\n",
        "# Definisikan parameter grid\n",
        "param_grid = {\n",
        "    'C': [0.1, 1, 10],\n",
        "    'kernel': ['linear', 'rbf'],\n",
        "    'gamma': ['scale', 'auto']\n",
        "}\n",
        "\n",
        "# Inisialisasi model dan GridSearch\n",
        "svm = SVC()\n",
        "grid_search = GridSearchCV(svm, param_grid, cv=5, scoring='accuracy')\n",
        "\n",
        "# Ubah y_train menjadi kelas diskrit (misalnya, 0 atau 1) berdasarkan threshold\n",
        "threshold = 0.5  # Pilih threshold yang sesuai\n",
        "y_train_discrete = (y_train > threshold).astype(int)\n",
        "\n",
        "# Latih model dengan grid search menggunakan target diskrit\n",
        "grid_search.fit(X_train_lstm_features, y_train_discrete)\n",
        "\n",
        "# Hasil terbaik\n",
        "print(f'Best parameters: {grid_search.best_params_}')\n",
        "best_model = grid_search.best_estimator_"
      ],
      "metadata": {
        "colab": {
          "base_uri": "https://localhost:8080/"
        },
        "id": "SoLM_mctEhIp",
        "outputId": "7cf39fe2-ff61-479f-ad45-d893d3309868"
      },
      "execution_count": null,
      "outputs": [
        {
          "output_type": "stream",
          "name": "stdout",
          "text": [
            "Best parameters: {'C': 10, 'gamma': 'auto', 'kernel': 'rbf'}\n"
          ]
        }
      ]
    },
    {
      "cell_type": "code",
      "source": [
        "# Optimasi model LSTM\n",
        "from tensorflow.keras.layers import Dropout\n",
        "\n",
        "# Bangun model LSTM dengan Dropout\n",
        "model = Sequential()\n",
        "model.add(LSTM(50, activation='relu', input_shape=(X_train_lstm.shape[1], 1)))\n",
        "model.add(Dropout(0.2))  # Dropout layer\n",
        "model.add(Dense(1, activation='sigmoid'))  # Untuk klasifikasi biner\n",
        "model.compile(optimizer='adam', loss='binary_crossentropy', metrics=['accuracy'])\n",
        "\n",
        "# Latih model\n",
        "history = model.fit(X_train_lstm, y_train, epochs=20, batch_size=32, validation_data=(X_test_lstm, y_test))\n"
      ],
      "metadata": {
        "colab": {
          "base_uri": "https://localhost:8080/"
        },
        "id": "VOlnDO-DFesK",
        "outputId": "7b331d60-9db7-4561-b444-801d23c5f46d"
      },
      "execution_count": null,
      "outputs": [
        {
          "output_type": "stream",
          "name": "stdout",
          "text": [
            "Epoch 1/20\n"
          ]
        },
        {
          "output_type": "stream",
          "name": "stderr",
          "text": [
            "/usr/local/lib/python3.10/dist-packages/keras/src/layers/rnn/rnn.py:204: UserWarning: Do not pass an `input_shape`/`input_dim` argument to a layer. When using Sequential models, prefer using an `Input(shape)` object as the first layer in the model instead.\n",
            "  super().__init__(**kwargs)\n"
          ]
        },
        {
          "output_type": "stream",
          "name": "stdout",
          "text": [
            "\u001b[1m12/12\u001b[0m \u001b[32m━━━━━━━━━━━━━━━━━━━━\u001b[0m\u001b[37m\u001b[0m \u001b[1m5s\u001b[0m 92ms/step - accuracy: 0.4226 - loss: 0.7288 - val_accuracy: 0.5104 - val_loss: 0.6635\n",
            "Epoch 2/20\n",
            "\u001b[1m12/12\u001b[0m \u001b[32m━━━━━━━━━━━━━━━━━━━━\u001b[0m\u001b[37m\u001b[0m \u001b[1m0s\u001b[0m 20ms/step - accuracy: 0.4339 - loss: 0.7134 - val_accuracy: 0.5208 - val_loss: 0.6328\n",
            "Epoch 3/20\n",
            "\u001b[1m12/12\u001b[0m \u001b[32m━━━━━━━━━━━━━━━━━━━━\u001b[0m\u001b[37m\u001b[0m \u001b[1m0s\u001b[0m 15ms/step - accuracy: 0.4918 - loss: 0.6589 - val_accuracy: 0.5312 - val_loss: 0.6380\n",
            "Epoch 4/20\n",
            "\u001b[1m12/12\u001b[0m \u001b[32m━━━━━━━━━━━━━━━━━━━━\u001b[0m\u001b[37m\u001b[0m \u001b[1m0s\u001b[0m 21ms/step - accuracy: 0.4727 - loss: 0.6623 - val_accuracy: 0.5312 - val_loss: 0.6267\n",
            "Epoch 5/20\n",
            "\u001b[1m12/12\u001b[0m \u001b[32m━━━━━━━━━━━━━━━━━━━━\u001b[0m\u001b[37m\u001b[0m \u001b[1m0s\u001b[0m 11ms/step - accuracy: 0.4491 - loss: 0.6764 - val_accuracy: 0.5312 - val_loss: 0.6386\n",
            "Epoch 6/20\n",
            "\u001b[1m12/12\u001b[0m \u001b[32m━━━━━━━━━━━━━━━━━━━━\u001b[0m\u001b[37m\u001b[0m \u001b[1m0s\u001b[0m 11ms/step - accuracy: 0.4801 - loss: 0.6765 - val_accuracy: 0.5625 - val_loss: 0.6226\n",
            "Epoch 7/20\n",
            "\u001b[1m12/12\u001b[0m \u001b[32m━━━━━━━━━━━━━━━━━━━━\u001b[0m\u001b[37m\u001b[0m \u001b[1m0s\u001b[0m 12ms/step - accuracy: 0.4607 - loss: 0.6647 - val_accuracy: 0.5521 - val_loss: 0.6253\n",
            "Epoch 8/20\n",
            "\u001b[1m12/12\u001b[0m \u001b[32m━━━━━━━━━━━━━━━━━━━━\u001b[0m\u001b[37m\u001b[0m \u001b[1m0s\u001b[0m 10ms/step - accuracy: 0.4370 - loss: 0.6673 - val_accuracy: 0.5208 - val_loss: 0.6166\n",
            "Epoch 9/20\n",
            "\u001b[1m12/12\u001b[0m \u001b[32m━━━━━━━━━━━━━━━━━━━━\u001b[0m\u001b[37m\u001b[0m \u001b[1m0s\u001b[0m 11ms/step - accuracy: 0.4831 - loss: 0.6504 - val_accuracy: 0.5521 - val_loss: 0.6210\n",
            "Epoch 10/20\n",
            "\u001b[1m12/12\u001b[0m \u001b[32m━━━━━━━━━━━━━━━━━━━━\u001b[0m\u001b[37m\u001b[0m \u001b[1m0s\u001b[0m 10ms/step - accuracy: 0.4907 - loss: 0.6628 - val_accuracy: 0.5417 - val_loss: 0.6116\n",
            "Epoch 11/20\n",
            "\u001b[1m12/12\u001b[0m \u001b[32m━━━━━━━━━━━━━━━━━━━━\u001b[0m\u001b[37m\u001b[0m \u001b[1m0s\u001b[0m 10ms/step - accuracy: 0.5040 - loss: 0.6313 - val_accuracy: 0.5312 - val_loss: 0.6215\n",
            "Epoch 12/20\n",
            "\u001b[1m12/12\u001b[0m \u001b[32m━━━━━━━━━━━━━━━━━━━━\u001b[0m\u001b[37m\u001b[0m \u001b[1m0s\u001b[0m 10ms/step - accuracy: 0.4818 - loss: 0.6393 - val_accuracy: 0.5312 - val_loss: 0.6109\n",
            "Epoch 13/20\n",
            "\u001b[1m12/12\u001b[0m \u001b[32m━━━━━━━━━━━━━━━━━━━━\u001b[0m\u001b[37m\u001b[0m \u001b[1m0s\u001b[0m 10ms/step - accuracy: 0.5280 - loss: 0.6620 - val_accuracy: 0.5521 - val_loss: 0.6077\n",
            "Epoch 14/20\n",
            "\u001b[1m12/12\u001b[0m \u001b[32m━━━━━━━━━━━━━━━━━━━━\u001b[0m\u001b[37m\u001b[0m \u001b[1m0s\u001b[0m 12ms/step - accuracy: 0.4897 - loss: 0.6315 - val_accuracy: 0.5521 - val_loss: 0.6056\n",
            "Epoch 15/20\n",
            "\u001b[1m12/12\u001b[0m \u001b[32m━━━━━━━━━━━━━━━━━━━━\u001b[0m\u001b[37m\u001b[0m \u001b[1m0s\u001b[0m 10ms/step - accuracy: 0.5192 - loss: 0.6151 - val_accuracy: 0.5312 - val_loss: 0.6047\n",
            "Epoch 16/20\n",
            "\u001b[1m12/12\u001b[0m \u001b[32m━━━━━━━━━━━━━━━━━━━━\u001b[0m\u001b[37m\u001b[0m \u001b[1m0s\u001b[0m 10ms/step - accuracy: 0.4996 - loss: 0.6301 - val_accuracy: 0.5000 - val_loss: 0.6106\n",
            "Epoch 17/20\n",
            "\u001b[1m12/12\u001b[0m \u001b[32m━━━━━━━━━━━━━━━━━━━━\u001b[0m\u001b[37m\u001b[0m \u001b[1m0s\u001b[0m 10ms/step - accuracy: 0.5112 - loss: 0.6255 - val_accuracy: 0.5833 - val_loss: 0.6049\n",
            "Epoch 18/20\n",
            "\u001b[1m12/12\u001b[0m \u001b[32m━━━━━━━━━━━━━━━━━━━━\u001b[0m\u001b[37m\u001b[0m \u001b[1m0s\u001b[0m 11ms/step - accuracy: 0.5031 - loss: 0.6423 - val_accuracy: 0.5104 - val_loss: 0.6236\n",
            "Epoch 19/20\n",
            "\u001b[1m12/12\u001b[0m \u001b[32m━━━━━━━━━━━━━━━━━━━━\u001b[0m\u001b[37m\u001b[0m \u001b[1m0s\u001b[0m 12ms/step - accuracy: 0.4880 - loss: 0.6416 - val_accuracy: 0.5625 - val_loss: 0.6043\n",
            "Epoch 20/20\n",
            "\u001b[1m12/12\u001b[0m \u001b[32m━━━━━━━━━━━━━━━━━━━━\u001b[0m\u001b[37m\u001b[0m \u001b[1m0s\u001b[0m 10ms/step - accuracy: 0.5586 - loss: 0.6052 - val_accuracy: 0.5521 - val_loss: 0.5998\n"
          ]
        }
      ]
    },
    {
      "cell_type": "code",
      "source": [
        "# cross-validation Untuk memastikan model tidak overfitting\n",
        "from sklearn.model_selection import cross_val_score\n",
        "\n",
        "# Cross-validation untuk SVM\n",
        "# Ubah y_train menjadi kelas diskrit menggunakan threshold\n",
        "threshold = 0.5  # Sesuaikan jika perlu\n",
        "y_train_discrete = (y_train > threshold).astype(int)\n",
        "\n",
        "# Sekarang gunakan y_train_discrete untuk validasi silang\n",
        "cv_scores = cross_val_score(best_model, X_train_lstm_features, y_train_discrete, cv=5, scoring='accuracy')\n",
        "print(f'Akurasi validasi silang: {cv_scores.mean():.4f} ± {cv_scores.std():.4f}')"
      ],
      "metadata": {
        "colab": {
          "base_uri": "https://localhost:8080/"
        },
        "id": "ppHESYJLFu5w",
        "outputId": "a5cb3e3b-39e5-4395-a44f-fc98ba04410b"
      },
      "execution_count": null,
      "outputs": [
        {
          "output_type": "stream",
          "name": "stdout",
          "text": [
            "Akurasi validasi silang: 0.6536 ± 0.0564\n"
          ]
        }
      ]
    },
    {
      "cell_type": "code",
      "source": [
        "# Evaluasi Model yang Dioptimasi\n",
        "y_pred_optimized = best_model.predict(X_test_lstm_features)\n",
        "\n",
        "# Ubah y_test ke kelas diskrit menggunakan threshold yang sama seperti yang digunakan untuk pelatihan\n",
        "threshold = 0.5  # Gunakan threshold yang sama seperti sebelumnya\n",
        "y_test_discrete = (y_test > threshold).astype(int)\n",
        "\n",
        "# Sekarang hitung metrik menggunakan y_test_discrete dan y_pred_optimized\n",
        "accuracy = accuracy_score(y_test_discrete, y_pred_optimized)\n",
        "precision = precision_score(y_test_discrete, y_pred_optimized)\n",
        "recall = recall_score(y_test_discrete, y_pred_optimized)\n",
        "f1 = f1_score(y_test_discrete, y_pred_optimized)\n",
        "roc_auc = roc_auc_score(y_test_discrete, y_pred_optimized)\n",
        "\n",
        "print(f'Akurasi: {accuracy:.4f}')\n",
        "print(f'Presisi: {precision:.4f}')\n",
        "print(f'Recall: {recall:.4f}')\n",
        "print(f'F1-Score: {f1:.4f}')\n",
        "print(f'AUC-ROC: {roc_auc:.4f}')"
      ],
      "metadata": {
        "colab": {
          "base_uri": "https://localhost:8080/"
        },
        "id": "AE6QCJEtGSJb",
        "outputId": "9374fd7b-16d9-46de-ede9-76b0eddefe0d"
      },
      "execution_count": null,
      "outputs": [
        {
          "output_type": "stream",
          "name": "stdout",
          "text": [
            "Akurasi: 0.6042\n",
            "Presisi: 0.6667\n",
            "Recall: 0.4167\n",
            "F1-Score: 0.5128\n",
            "AUC-ROC: 0.6042\n"
          ]
        }
      ]
    },
    {
      "cell_type": "code",
      "source": [
        "# Penyimpanan Model\n",
        "# Menyimpan model LSTM\n",
        "model.save('model_lstm.h5')\n",
        "\n",
        "# Menyimpan model SVM\n",
        "import joblib\n",
        "joblib.dump(best_model, 'model_svm.pkl')\n"
      ],
      "metadata": {
        "colab": {
          "base_uri": "https://localhost:8080/"
        },
        "id": "-gxxtiNqGoo8",
        "outputId": "f5b24a24-5aba-4277-fc75-50491d80c28e"
      },
      "execution_count": null,
      "outputs": [
        {
          "output_type": "stream",
          "name": "stderr",
          "text": [
            "WARNING:absl:You are saving your model as an HDF5 file via `model.save()` or `keras.saving.save_model(model)`. This file format is considered legacy. We recommend using instead the native Keras format, e.g. `model.save('my_model.keras')` or `keras.saving.save_model(model, 'my_model.keras')`. \n"
          ]
        },
        {
          "output_type": "execute_result",
          "data": {
            "text/plain": [
              "['model_svm.pkl']"
            ]
          },
          "metadata": {},
          "execution_count": 74
        }
      ]
    }
  ]
}